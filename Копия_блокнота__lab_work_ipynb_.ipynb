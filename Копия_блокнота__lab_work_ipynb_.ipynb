{
  "cells": [
    {
      "cell_type": "markdown",
      "metadata": {
        "id": "2LDjNwV-L07C"
      },
      "source": [
        "# Аналитика данных с помощью `pandas` и `matplotlib`"
      ]
    },
    {
      "cell_type": "markdown",
      "source": [
        "В этом задании вам предлагается выполнить анализ данных криптовалют с помощью библиотек pandas и matplotlib.\n",
        "Задание выглядит как лабораторная работа, в которой вам предстоит заполнить недостающие клетки и ответить на ряд вопросов.\n",
        " - [Официальная документация pandas](https://pandas.pydata.org/)\n",
        " - [Официальная документация matplotlib](https://matplotlib.org/index.html)"
      ],
      "metadata": {
        "id": "yahCEf27L8Xz"
      }
    },
    {
      "cell_type": "markdown",
      "source": [
        "> **Напоминание**\n",
        ">\n",
        ">Минимальные баллы для получения зачёта по этой работе - **1 балл**. Если вы не набираете тут 1 балл, то по всему курсу вы получаете неуд (см. слайды с вводной презентации)."
      ],
      "metadata": {
        "id": "nER0dTZGMCPM"
      }
    },
    {
      "cell_type": "markdown",
      "metadata": {
        "id": "dWNu1zPiL07Q"
      },
      "source": [
        "## 1. Данные (2 балла)"
      ]
    },
    {
      "cell_type": "markdown",
      "source": [
        "Скачиваем данные для работы:"
      ],
      "metadata": {
        "id": "Nh7axXM5MrlX"
      }
    },
    {
      "cell_type": "code",
      "source": [
        "%%bash\n",
        "gdown 1e-Q_15W7ExExQarKqgjrtoO-LHi9oJs3"
      ],
      "metadata": {
        "id": "bzRxn9yrMq79",
        "colab": {
          "base_uri": "https://localhost:8080/"
        },
        "outputId": "2923f010-a9e3-4a0a-84ea-b8eb0a81d5d9"
      },
      "execution_count": 76,
      "outputs": [
        {
          "output_type": "stream",
          "name": "stderr",
          "text": [
            "Downloading...\n",
            "From: https://drive.google.com/uc?id=1e-Q_15W7ExExQarKqgjrtoO-LHi9oJs3\n",
            "To: /content/coins.csv\n",
            "\r  0%|          | 0.00/3.98M [00:00<?, ?B/s]\r100%|██████████| 3.98M/3.98M [00:00<00:00, 218MB/s]\n"
          ]
        }
      ]
    },
    {
      "cell_type": "markdown",
      "metadata": {
        "id": "rxz0pXGIL07S"
      },
      "source": [
        "Начнем с необходимых приготовлений."
      ]
    },
    {
      "cell_type": "code",
      "execution_count": 77,
      "metadata": {
        "id": "-G3lHlpmL07T"
      },
      "outputs": [],
      "source": [
        "import numpy as np\n",
        "import pandas as pd\n",
        "import matplotlib as mpl  \n",
        "import matplotlib.pyplot as plt\n",
        "import ipywidgets  # Библиотека для интерактивных контролов в jupyter notebook'е\n",
        "\n",
        "%matplotlib inline"
      ]
    },
    {
      "cell_type": "markdown",
      "metadata": {
        "id": "syVncWO5L07X"
      },
      "source": [
        "#### Загрузите заранее подготовленный датасет из файла *\"coins.csv\"*. Создайте объект типа `pandas.DataFrame` с именем `coins` и в качестве индекса выберите колонку с датой."
      ]
    },
    {
      "cell_type": "code",
      "execution_count": 78,
      "metadata": {
        "id": "3a-dnCG0L07Z"
      },
      "outputs": [],
      "source": [
        "coins = pd.read_csv('coins.csv')  \n",
        "coins.date = pd.to_datetime(coins.date)\n",
        "coins.set_index('date', inplace = True)"
      ]
    },
    {
      "cell_type": "markdown",
      "metadata": {
        "id": "XYauvggmL07a"
      },
      "source": [
        "Посмотрим что получилось"
      ]
    },
    {
      "cell_type": "code",
      "execution_count": 79,
      "metadata": {
        "id": "l4uGAbw2L07e",
        "outputId": "a20056b0-d8a1-439d-f4d1-b0ff922324fd",
        "colab": {
          "base_uri": "https://localhost:8080/",
          "height": 1000
        }
      },
      "outputs": [
        {
          "output_type": "execute_result",
          "data": {
            "text/plain": [
              "             price  txCount      txVolume  activeAddresses symbol      name  \\\n",
              "date                                                                          \n",
              "2013-04-28  135.30  41702.0  6.879868e+07         117984.0    BTC   Bitcoin   \n",
              "2013-04-28    4.30   9174.0  4.431952e+07          17216.0    LTC  Litecoin   \n",
              "2013-04-29  134.44  51602.0  1.138128e+08          86925.0    BTC   Bitcoin   \n",
              "2013-04-29    4.37   9275.0  3.647810e+07          18395.0    LTC  Litecoin   \n",
              "2013-04-30  144.00  47450.0  8.426632e+07          76871.0    BTC   Bitcoin   \n",
              "2013-04-30    4.40   9099.0  4.039166e+07          17810.0    LTC  Litecoin   \n",
              "2013-05-01  139.00  55176.0  1.206825e+08          83564.0    BTC   Bitcoin   \n",
              "2013-05-01    4.29   8990.0  7.637420e+07          16991.0    LTC  Litecoin   \n",
              "2013-05-02  116.38  55295.0  9.337533e+07          81920.0    BTC   Bitcoin   \n",
              "2013-05-02    3.78   8031.0  1.163151e+07          15769.0    LTC  Litecoin   \n",
              "2013-05-03  106.25  51275.0  7.273133e+07          82804.0    BTC   Bitcoin   \n",
              "2013-05-03    3.39   6280.0  4.632241e+06          12956.0    LTC  Litecoin   \n",
              "2013-05-04   98.10  50102.0  3.896570e+07          69959.0    BTC   Bitcoin   \n",
              "2013-05-04    3.03   6168.0  5.725030e+06          12377.0    LTC  Litecoin   \n",
              "2013-05-05  112.90  50167.0  5.708371e+07          72103.0    BTC   Bitcoin   \n",
              "2013-05-05    3.49   5948.0  6.579465e+06          12245.0    LTC  Litecoin   \n",
              "2013-05-06  115.98  53174.0  8.567133e+07          85164.0    BTC   Bitcoin   \n",
              "2013-05-06    3.59  10636.0  1.348974e+07          18244.0    LTC  Litecoin   \n",
              "2013-05-07  112.25  56567.0  9.672451e+07         109067.0    BTC   Bitcoin   \n",
              "2013-05-07    3.37   8712.0  9.082298e+06          16710.0    LTC  Litecoin   \n",
              "2013-05-08  109.60  50274.0  7.989088e+07         102388.0    BTC   Bitcoin   \n",
              "2013-05-08    3.28   9035.0  6.748147e+06          16851.0    LTC  Litecoin   \n",
              "2013-05-09  113.20  66610.0  6.453970e+07          81894.0    BTC   Bitcoin   \n",
              "2013-05-09    3.40  12776.0  9.291191e+06          20459.0    LTC  Litecoin   \n",
              "2013-05-10  112.80  67709.0  7.883246e+07          84293.0    BTC   Bitcoin   \n",
              "2013-05-10    3.41  10503.0  8.136962e+06          18054.0    LTC  Litecoin   \n",
              "2013-05-11  117.70  73220.0  6.724575e+07          80910.0    BTC   Bitcoin   \n",
              "2013-05-11    3.46   7000.0  1.868224e+07          14207.0    LTC  Litecoin   \n",
              "2013-05-12  115.64  65260.0  5.295803e+07          69607.0    BTC   Bitcoin   \n",
              "2013-05-12    3.36   6924.0  8.487886e+06          13924.0    LTC  Litecoin   \n",
              "\n",
              "              open    high     low   close  volume        market  \n",
              "date                                                              \n",
              "2013-04-28  135.30  135.98  132.10  134.21     0.0  1.500520e+09  \n",
              "2013-04-28    4.30    4.40    4.18    4.35     0.0  7.377340e+07  \n",
              "2013-04-29  134.44  147.49  134.00  144.54     0.0  1.491160e+09  \n",
              "2013-04-29    4.37    4.57    4.23    4.38     0.0  7.495270e+07  \n",
              "2013-04-30  144.00  146.93  134.05  139.00     0.0  1.597780e+09  \n",
              "2013-04-30    4.40    4.57    4.17    4.30     0.0  7.572680e+07  \n",
              "2013-05-01  139.00  139.89  107.72  116.99     0.0  1.542820e+09  \n",
              "2013-05-01    4.29    4.36    3.52    3.80     0.0  7.390120e+07  \n",
              "2013-05-02  116.38  125.60   92.28  105.21     0.0  1.292190e+09  \n",
              "2013-05-02    3.78    4.04    3.01    3.37     0.0  6.524270e+07  \n",
              "2013-05-03  106.25  108.13   79.10   97.75     0.0  1.180070e+09  \n",
              "2013-05-03    3.39    3.45    2.40    3.04     0.0  5.860740e+07  \n",
              "2013-05-04   98.10  115.00   92.50  112.50     0.0  1.089890e+09  \n",
              "2013-05-04    3.03    3.64    2.90    3.48     0.0  5.247640e+07  \n",
              "2013-05-05  112.90  118.80  107.14  115.91     0.0  1.254760e+09  \n",
              "2013-05-05    3.49    3.69    3.35    3.59     0.0  6.052500e+07  \n",
              "2013-05-06  115.98  124.66  106.64  112.30     0.0  1.289470e+09  \n",
              "2013-05-06    3.59    3.78    3.12    3.37     0.0  6.235600e+07  \n",
              "2013-05-07  112.25  113.44   97.70  111.50     0.0  1.248470e+09  \n",
              "2013-05-07    3.37    3.41    2.94    3.33     0.0  5.858830e+07  \n",
              "2013-05-08  109.60  115.78  109.60  113.57     0.0  1.219450e+09  \n",
              "2013-05-08    3.28    3.49    3.28    3.41     0.0  5.719630e+07  \n",
              "2013-05-09  113.20  113.46  109.26  112.67     0.0  1.259980e+09  \n",
              "2013-05-09    3.40    3.44    3.29    3.42     0.0  5.933710e+07  \n",
              "2013-05-10  112.80  122.00  111.55  117.20     0.0  1.255970e+09  \n",
              "2013-05-10    3.41    3.63    3.37    3.44     0.0  5.958800e+07  \n",
              "2013-05-11  117.70  118.68  113.01  115.24     0.0  1.311050e+09  \n",
              "2013-05-11    3.46    3.48    3.30    3.35     0.0  6.065800e+07  \n",
              "2013-05-12  115.64  117.45  113.44  115.00     0.0  1.288630e+09  \n",
              "2013-05-12    3.36    3.42    3.22    3.27     0.0  5.905290e+07  "
            ],
            "text/html": [
              "\n",
              "  <div id=\"df-84195eee-0fc2-4715-9998-33ae3f47c923\">\n",
              "    <div class=\"colab-df-container\">\n",
              "      <div>\n",
              "<style scoped>\n",
              "    .dataframe tbody tr th:only-of-type {\n",
              "        vertical-align: middle;\n",
              "    }\n",
              "\n",
              "    .dataframe tbody tr th {\n",
              "        vertical-align: top;\n",
              "    }\n",
              "\n",
              "    .dataframe thead th {\n",
              "        text-align: right;\n",
              "    }\n",
              "</style>\n",
              "<table border=\"1\" class=\"dataframe\">\n",
              "  <thead>\n",
              "    <tr style=\"text-align: right;\">\n",
              "      <th></th>\n",
              "      <th>price</th>\n",
              "      <th>txCount</th>\n",
              "      <th>txVolume</th>\n",
              "      <th>activeAddresses</th>\n",
              "      <th>symbol</th>\n",
              "      <th>name</th>\n",
              "      <th>open</th>\n",
              "      <th>high</th>\n",
              "      <th>low</th>\n",
              "      <th>close</th>\n",
              "      <th>volume</th>\n",
              "      <th>market</th>\n",
              "    </tr>\n",
              "    <tr>\n",
              "      <th>date</th>\n",
              "      <th></th>\n",
              "      <th></th>\n",
              "      <th></th>\n",
              "      <th></th>\n",
              "      <th></th>\n",
              "      <th></th>\n",
              "      <th></th>\n",
              "      <th></th>\n",
              "      <th></th>\n",
              "      <th></th>\n",
              "      <th></th>\n",
              "      <th></th>\n",
              "    </tr>\n",
              "  </thead>\n",
              "  <tbody>\n",
              "    <tr>\n",
              "      <th>2013-04-28</th>\n",
              "      <td>135.30</td>\n",
              "      <td>41702.0</td>\n",
              "      <td>6.879868e+07</td>\n",
              "      <td>117984.0</td>\n",
              "      <td>BTC</td>\n",
              "      <td>Bitcoin</td>\n",
              "      <td>135.30</td>\n",
              "      <td>135.98</td>\n",
              "      <td>132.10</td>\n",
              "      <td>134.21</td>\n",
              "      <td>0.0</td>\n",
              "      <td>1.500520e+09</td>\n",
              "    </tr>\n",
              "    <tr>\n",
              "      <th>2013-04-28</th>\n",
              "      <td>4.30</td>\n",
              "      <td>9174.0</td>\n",
              "      <td>4.431952e+07</td>\n",
              "      <td>17216.0</td>\n",
              "      <td>LTC</td>\n",
              "      <td>Litecoin</td>\n",
              "      <td>4.30</td>\n",
              "      <td>4.40</td>\n",
              "      <td>4.18</td>\n",
              "      <td>4.35</td>\n",
              "      <td>0.0</td>\n",
              "      <td>7.377340e+07</td>\n",
              "    </tr>\n",
              "    <tr>\n",
              "      <th>2013-04-29</th>\n",
              "      <td>134.44</td>\n",
              "      <td>51602.0</td>\n",
              "      <td>1.138128e+08</td>\n",
              "      <td>86925.0</td>\n",
              "      <td>BTC</td>\n",
              "      <td>Bitcoin</td>\n",
              "      <td>134.44</td>\n",
              "      <td>147.49</td>\n",
              "      <td>134.00</td>\n",
              "      <td>144.54</td>\n",
              "      <td>0.0</td>\n",
              "      <td>1.491160e+09</td>\n",
              "    </tr>\n",
              "    <tr>\n",
              "      <th>2013-04-29</th>\n",
              "      <td>4.37</td>\n",
              "      <td>9275.0</td>\n",
              "      <td>3.647810e+07</td>\n",
              "      <td>18395.0</td>\n",
              "      <td>LTC</td>\n",
              "      <td>Litecoin</td>\n",
              "      <td>4.37</td>\n",
              "      <td>4.57</td>\n",
              "      <td>4.23</td>\n",
              "      <td>4.38</td>\n",
              "      <td>0.0</td>\n",
              "      <td>7.495270e+07</td>\n",
              "    </tr>\n",
              "    <tr>\n",
              "      <th>2013-04-30</th>\n",
              "      <td>144.00</td>\n",
              "      <td>47450.0</td>\n",
              "      <td>8.426632e+07</td>\n",
              "      <td>76871.0</td>\n",
              "      <td>BTC</td>\n",
              "      <td>Bitcoin</td>\n",
              "      <td>144.00</td>\n",
              "      <td>146.93</td>\n",
              "      <td>134.05</td>\n",
              "      <td>139.00</td>\n",
              "      <td>0.0</td>\n",
              "      <td>1.597780e+09</td>\n",
              "    </tr>\n",
              "    <tr>\n",
              "      <th>2013-04-30</th>\n",
              "      <td>4.40</td>\n",
              "      <td>9099.0</td>\n",
              "      <td>4.039166e+07</td>\n",
              "      <td>17810.0</td>\n",
              "      <td>LTC</td>\n",
              "      <td>Litecoin</td>\n",
              "      <td>4.40</td>\n",
              "      <td>4.57</td>\n",
              "      <td>4.17</td>\n",
              "      <td>4.30</td>\n",
              "      <td>0.0</td>\n",
              "      <td>7.572680e+07</td>\n",
              "    </tr>\n",
              "    <tr>\n",
              "      <th>2013-05-01</th>\n",
              "      <td>139.00</td>\n",
              "      <td>55176.0</td>\n",
              "      <td>1.206825e+08</td>\n",
              "      <td>83564.0</td>\n",
              "      <td>BTC</td>\n",
              "      <td>Bitcoin</td>\n",
              "      <td>139.00</td>\n",
              "      <td>139.89</td>\n",
              "      <td>107.72</td>\n",
              "      <td>116.99</td>\n",
              "      <td>0.0</td>\n",
              "      <td>1.542820e+09</td>\n",
              "    </tr>\n",
              "    <tr>\n",
              "      <th>2013-05-01</th>\n",
              "      <td>4.29</td>\n",
              "      <td>8990.0</td>\n",
              "      <td>7.637420e+07</td>\n",
              "      <td>16991.0</td>\n",
              "      <td>LTC</td>\n",
              "      <td>Litecoin</td>\n",
              "      <td>4.29</td>\n",
              "      <td>4.36</td>\n",
              "      <td>3.52</td>\n",
              "      <td>3.80</td>\n",
              "      <td>0.0</td>\n",
              "      <td>7.390120e+07</td>\n",
              "    </tr>\n",
              "    <tr>\n",
              "      <th>2013-05-02</th>\n",
              "      <td>116.38</td>\n",
              "      <td>55295.0</td>\n",
              "      <td>9.337533e+07</td>\n",
              "      <td>81920.0</td>\n",
              "      <td>BTC</td>\n",
              "      <td>Bitcoin</td>\n",
              "      <td>116.38</td>\n",
              "      <td>125.60</td>\n",
              "      <td>92.28</td>\n",
              "      <td>105.21</td>\n",
              "      <td>0.0</td>\n",
              "      <td>1.292190e+09</td>\n",
              "    </tr>\n",
              "    <tr>\n",
              "      <th>2013-05-02</th>\n",
              "      <td>3.78</td>\n",
              "      <td>8031.0</td>\n",
              "      <td>1.163151e+07</td>\n",
              "      <td>15769.0</td>\n",
              "      <td>LTC</td>\n",
              "      <td>Litecoin</td>\n",
              "      <td>3.78</td>\n",
              "      <td>4.04</td>\n",
              "      <td>3.01</td>\n",
              "      <td>3.37</td>\n",
              "      <td>0.0</td>\n",
              "      <td>6.524270e+07</td>\n",
              "    </tr>\n",
              "    <tr>\n",
              "      <th>2013-05-03</th>\n",
              "      <td>106.25</td>\n",
              "      <td>51275.0</td>\n",
              "      <td>7.273133e+07</td>\n",
              "      <td>82804.0</td>\n",
              "      <td>BTC</td>\n",
              "      <td>Bitcoin</td>\n",
              "      <td>106.25</td>\n",
              "      <td>108.13</td>\n",
              "      <td>79.10</td>\n",
              "      <td>97.75</td>\n",
              "      <td>0.0</td>\n",
              "      <td>1.180070e+09</td>\n",
              "    </tr>\n",
              "    <tr>\n",
              "      <th>2013-05-03</th>\n",
              "      <td>3.39</td>\n",
              "      <td>6280.0</td>\n",
              "      <td>4.632241e+06</td>\n",
              "      <td>12956.0</td>\n",
              "      <td>LTC</td>\n",
              "      <td>Litecoin</td>\n",
              "      <td>3.39</td>\n",
              "      <td>3.45</td>\n",
              "      <td>2.40</td>\n",
              "      <td>3.04</td>\n",
              "      <td>0.0</td>\n",
              "      <td>5.860740e+07</td>\n",
              "    </tr>\n",
              "    <tr>\n",
              "      <th>2013-05-04</th>\n",
              "      <td>98.10</td>\n",
              "      <td>50102.0</td>\n",
              "      <td>3.896570e+07</td>\n",
              "      <td>69959.0</td>\n",
              "      <td>BTC</td>\n",
              "      <td>Bitcoin</td>\n",
              "      <td>98.10</td>\n",
              "      <td>115.00</td>\n",
              "      <td>92.50</td>\n",
              "      <td>112.50</td>\n",
              "      <td>0.0</td>\n",
              "      <td>1.089890e+09</td>\n",
              "    </tr>\n",
              "    <tr>\n",
              "      <th>2013-05-04</th>\n",
              "      <td>3.03</td>\n",
              "      <td>6168.0</td>\n",
              "      <td>5.725030e+06</td>\n",
              "      <td>12377.0</td>\n",
              "      <td>LTC</td>\n",
              "      <td>Litecoin</td>\n",
              "      <td>3.03</td>\n",
              "      <td>3.64</td>\n",
              "      <td>2.90</td>\n",
              "      <td>3.48</td>\n",
              "      <td>0.0</td>\n",
              "      <td>5.247640e+07</td>\n",
              "    </tr>\n",
              "    <tr>\n",
              "      <th>2013-05-05</th>\n",
              "      <td>112.90</td>\n",
              "      <td>50167.0</td>\n",
              "      <td>5.708371e+07</td>\n",
              "      <td>72103.0</td>\n",
              "      <td>BTC</td>\n",
              "      <td>Bitcoin</td>\n",
              "      <td>112.90</td>\n",
              "      <td>118.80</td>\n",
              "      <td>107.14</td>\n",
              "      <td>115.91</td>\n",
              "      <td>0.0</td>\n",
              "      <td>1.254760e+09</td>\n",
              "    </tr>\n",
              "    <tr>\n",
              "      <th>2013-05-05</th>\n",
              "      <td>3.49</td>\n",
              "      <td>5948.0</td>\n",
              "      <td>6.579465e+06</td>\n",
              "      <td>12245.0</td>\n",
              "      <td>LTC</td>\n",
              "      <td>Litecoin</td>\n",
              "      <td>3.49</td>\n",
              "      <td>3.69</td>\n",
              "      <td>3.35</td>\n",
              "      <td>3.59</td>\n",
              "      <td>0.0</td>\n",
              "      <td>6.052500e+07</td>\n",
              "    </tr>\n",
              "    <tr>\n",
              "      <th>2013-05-06</th>\n",
              "      <td>115.98</td>\n",
              "      <td>53174.0</td>\n",
              "      <td>8.567133e+07</td>\n",
              "      <td>85164.0</td>\n",
              "      <td>BTC</td>\n",
              "      <td>Bitcoin</td>\n",
              "      <td>115.98</td>\n",
              "      <td>124.66</td>\n",
              "      <td>106.64</td>\n",
              "      <td>112.30</td>\n",
              "      <td>0.0</td>\n",
              "      <td>1.289470e+09</td>\n",
              "    </tr>\n",
              "    <tr>\n",
              "      <th>2013-05-06</th>\n",
              "      <td>3.59</td>\n",
              "      <td>10636.0</td>\n",
              "      <td>1.348974e+07</td>\n",
              "      <td>18244.0</td>\n",
              "      <td>LTC</td>\n",
              "      <td>Litecoin</td>\n",
              "      <td>3.59</td>\n",
              "      <td>3.78</td>\n",
              "      <td>3.12</td>\n",
              "      <td>3.37</td>\n",
              "      <td>0.0</td>\n",
              "      <td>6.235600e+07</td>\n",
              "    </tr>\n",
              "    <tr>\n",
              "      <th>2013-05-07</th>\n",
              "      <td>112.25</td>\n",
              "      <td>56567.0</td>\n",
              "      <td>9.672451e+07</td>\n",
              "      <td>109067.0</td>\n",
              "      <td>BTC</td>\n",
              "      <td>Bitcoin</td>\n",
              "      <td>112.25</td>\n",
              "      <td>113.44</td>\n",
              "      <td>97.70</td>\n",
              "      <td>111.50</td>\n",
              "      <td>0.0</td>\n",
              "      <td>1.248470e+09</td>\n",
              "    </tr>\n",
              "    <tr>\n",
              "      <th>2013-05-07</th>\n",
              "      <td>3.37</td>\n",
              "      <td>8712.0</td>\n",
              "      <td>9.082298e+06</td>\n",
              "      <td>16710.0</td>\n",
              "      <td>LTC</td>\n",
              "      <td>Litecoin</td>\n",
              "      <td>3.37</td>\n",
              "      <td>3.41</td>\n",
              "      <td>2.94</td>\n",
              "      <td>3.33</td>\n",
              "      <td>0.0</td>\n",
              "      <td>5.858830e+07</td>\n",
              "    </tr>\n",
              "    <tr>\n",
              "      <th>2013-05-08</th>\n",
              "      <td>109.60</td>\n",
              "      <td>50274.0</td>\n",
              "      <td>7.989088e+07</td>\n",
              "      <td>102388.0</td>\n",
              "      <td>BTC</td>\n",
              "      <td>Bitcoin</td>\n",
              "      <td>109.60</td>\n",
              "      <td>115.78</td>\n",
              "      <td>109.60</td>\n",
              "      <td>113.57</td>\n",
              "      <td>0.0</td>\n",
              "      <td>1.219450e+09</td>\n",
              "    </tr>\n",
              "    <tr>\n",
              "      <th>2013-05-08</th>\n",
              "      <td>3.28</td>\n",
              "      <td>9035.0</td>\n",
              "      <td>6.748147e+06</td>\n",
              "      <td>16851.0</td>\n",
              "      <td>LTC</td>\n",
              "      <td>Litecoin</td>\n",
              "      <td>3.28</td>\n",
              "      <td>3.49</td>\n",
              "      <td>3.28</td>\n",
              "      <td>3.41</td>\n",
              "      <td>0.0</td>\n",
              "      <td>5.719630e+07</td>\n",
              "    </tr>\n",
              "    <tr>\n",
              "      <th>2013-05-09</th>\n",
              "      <td>113.20</td>\n",
              "      <td>66610.0</td>\n",
              "      <td>6.453970e+07</td>\n",
              "      <td>81894.0</td>\n",
              "      <td>BTC</td>\n",
              "      <td>Bitcoin</td>\n",
              "      <td>113.20</td>\n",
              "      <td>113.46</td>\n",
              "      <td>109.26</td>\n",
              "      <td>112.67</td>\n",
              "      <td>0.0</td>\n",
              "      <td>1.259980e+09</td>\n",
              "    </tr>\n",
              "    <tr>\n",
              "      <th>2013-05-09</th>\n",
              "      <td>3.40</td>\n",
              "      <td>12776.0</td>\n",
              "      <td>9.291191e+06</td>\n",
              "      <td>20459.0</td>\n",
              "      <td>LTC</td>\n",
              "      <td>Litecoin</td>\n",
              "      <td>3.40</td>\n",
              "      <td>3.44</td>\n",
              "      <td>3.29</td>\n",
              "      <td>3.42</td>\n",
              "      <td>0.0</td>\n",
              "      <td>5.933710e+07</td>\n",
              "    </tr>\n",
              "    <tr>\n",
              "      <th>2013-05-10</th>\n",
              "      <td>112.80</td>\n",
              "      <td>67709.0</td>\n",
              "      <td>7.883246e+07</td>\n",
              "      <td>84293.0</td>\n",
              "      <td>BTC</td>\n",
              "      <td>Bitcoin</td>\n",
              "      <td>112.80</td>\n",
              "      <td>122.00</td>\n",
              "      <td>111.55</td>\n",
              "      <td>117.20</td>\n",
              "      <td>0.0</td>\n",
              "      <td>1.255970e+09</td>\n",
              "    </tr>\n",
              "    <tr>\n",
              "      <th>2013-05-10</th>\n",
              "      <td>3.41</td>\n",
              "      <td>10503.0</td>\n",
              "      <td>8.136962e+06</td>\n",
              "      <td>18054.0</td>\n",
              "      <td>LTC</td>\n",
              "      <td>Litecoin</td>\n",
              "      <td>3.41</td>\n",
              "      <td>3.63</td>\n",
              "      <td>3.37</td>\n",
              "      <td>3.44</td>\n",
              "      <td>0.0</td>\n",
              "      <td>5.958800e+07</td>\n",
              "    </tr>\n",
              "    <tr>\n",
              "      <th>2013-05-11</th>\n",
              "      <td>117.70</td>\n",
              "      <td>73220.0</td>\n",
              "      <td>6.724575e+07</td>\n",
              "      <td>80910.0</td>\n",
              "      <td>BTC</td>\n",
              "      <td>Bitcoin</td>\n",
              "      <td>117.70</td>\n",
              "      <td>118.68</td>\n",
              "      <td>113.01</td>\n",
              "      <td>115.24</td>\n",
              "      <td>0.0</td>\n",
              "      <td>1.311050e+09</td>\n",
              "    </tr>\n",
              "    <tr>\n",
              "      <th>2013-05-11</th>\n",
              "      <td>3.46</td>\n",
              "      <td>7000.0</td>\n",
              "      <td>1.868224e+07</td>\n",
              "      <td>14207.0</td>\n",
              "      <td>LTC</td>\n",
              "      <td>Litecoin</td>\n",
              "      <td>3.46</td>\n",
              "      <td>3.48</td>\n",
              "      <td>3.30</td>\n",
              "      <td>3.35</td>\n",
              "      <td>0.0</td>\n",
              "      <td>6.065800e+07</td>\n",
              "    </tr>\n",
              "    <tr>\n",
              "      <th>2013-05-12</th>\n",
              "      <td>115.64</td>\n",
              "      <td>65260.0</td>\n",
              "      <td>5.295803e+07</td>\n",
              "      <td>69607.0</td>\n",
              "      <td>BTC</td>\n",
              "      <td>Bitcoin</td>\n",
              "      <td>115.64</td>\n",
              "      <td>117.45</td>\n",
              "      <td>113.44</td>\n",
              "      <td>115.00</td>\n",
              "      <td>0.0</td>\n",
              "      <td>1.288630e+09</td>\n",
              "    </tr>\n",
              "    <tr>\n",
              "      <th>2013-05-12</th>\n",
              "      <td>3.36</td>\n",
              "      <td>6924.0</td>\n",
              "      <td>8.487886e+06</td>\n",
              "      <td>13924.0</td>\n",
              "      <td>LTC</td>\n",
              "      <td>Litecoin</td>\n",
              "      <td>3.36</td>\n",
              "      <td>3.42</td>\n",
              "      <td>3.22</td>\n",
              "      <td>3.27</td>\n",
              "      <td>0.0</td>\n",
              "      <td>5.905290e+07</td>\n",
              "    </tr>\n",
              "  </tbody>\n",
              "</table>\n",
              "</div>\n",
              "      <button class=\"colab-df-convert\" onclick=\"convertToInteractive('df-84195eee-0fc2-4715-9998-33ae3f47c923')\"\n",
              "              title=\"Convert this dataframe to an interactive table.\"\n",
              "              style=\"display:none;\">\n",
              "        \n",
              "  <svg xmlns=\"http://www.w3.org/2000/svg\" height=\"24px\"viewBox=\"0 0 24 24\"\n",
              "       width=\"24px\">\n",
              "    <path d=\"M0 0h24v24H0V0z\" fill=\"none\"/>\n",
              "    <path d=\"M18.56 5.44l.94 2.06.94-2.06 2.06-.94-2.06-.94-.94-2.06-.94 2.06-2.06.94zm-11 1L8.5 8.5l.94-2.06 2.06-.94-2.06-.94L8.5 2.5l-.94 2.06-2.06.94zm10 10l.94 2.06.94-2.06 2.06-.94-2.06-.94-.94-2.06-.94 2.06-2.06.94z\"/><path d=\"M17.41 7.96l-1.37-1.37c-.4-.4-.92-.59-1.43-.59-.52 0-1.04.2-1.43.59L10.3 9.45l-7.72 7.72c-.78.78-.78 2.05 0 2.83L4 21.41c.39.39.9.59 1.41.59.51 0 1.02-.2 1.41-.59l7.78-7.78 2.81-2.81c.8-.78.8-2.07 0-2.86zM5.41 20L4 18.59l7.72-7.72 1.47 1.35L5.41 20z\"/>\n",
              "  </svg>\n",
              "      </button>\n",
              "      \n",
              "  <style>\n",
              "    .colab-df-container {\n",
              "      display:flex;\n",
              "      flex-wrap:wrap;\n",
              "      gap: 12px;\n",
              "    }\n",
              "\n",
              "    .colab-df-convert {\n",
              "      background-color: #E8F0FE;\n",
              "      border: none;\n",
              "      border-radius: 50%;\n",
              "      cursor: pointer;\n",
              "      display: none;\n",
              "      fill: #1967D2;\n",
              "      height: 32px;\n",
              "      padding: 0 0 0 0;\n",
              "      width: 32px;\n",
              "    }\n",
              "\n",
              "    .colab-df-convert:hover {\n",
              "      background-color: #E2EBFA;\n",
              "      box-shadow: 0px 1px 2px rgba(60, 64, 67, 0.3), 0px 1px 3px 1px rgba(60, 64, 67, 0.15);\n",
              "      fill: #174EA6;\n",
              "    }\n",
              "\n",
              "    [theme=dark] .colab-df-convert {\n",
              "      background-color: #3B4455;\n",
              "      fill: #D2E3FC;\n",
              "    }\n",
              "\n",
              "    [theme=dark] .colab-df-convert:hover {\n",
              "      background-color: #434B5C;\n",
              "      box-shadow: 0px 1px 3px 1px rgba(0, 0, 0, 0.15);\n",
              "      filter: drop-shadow(0px 1px 2px rgba(0, 0, 0, 0.3));\n",
              "      fill: #FFFFFF;\n",
              "    }\n",
              "  </style>\n",
              "\n",
              "      <script>\n",
              "        const buttonEl =\n",
              "          document.querySelector('#df-84195eee-0fc2-4715-9998-33ae3f47c923 button.colab-df-convert');\n",
              "        buttonEl.style.display =\n",
              "          google.colab.kernel.accessAllowed ? 'block' : 'none';\n",
              "\n",
              "        async function convertToInteractive(key) {\n",
              "          const element = document.querySelector('#df-84195eee-0fc2-4715-9998-33ae3f47c923');\n",
              "          const dataTable =\n",
              "            await google.colab.kernel.invokeFunction('convertToInteractive',\n",
              "                                                     [key], {});\n",
              "          if (!dataTable) return;\n",
              "\n",
              "          const docLinkHtml = 'Like what you see? Visit the ' +\n",
              "            '<a target=\"_blank\" href=https://colab.research.google.com/notebooks/data_table.ipynb>data table notebook</a>'\n",
              "            + ' to learn more about interactive tables.';\n",
              "          element.innerHTML = '';\n",
              "          dataTable['output_type'] = 'display_data';\n",
              "          await google.colab.output.renderOutput(dataTable, element);\n",
              "          const docLink = document.createElement('div');\n",
              "          docLink.innerHTML = docLinkHtml;\n",
              "          element.appendChild(docLink);\n",
              "        }\n",
              "      </script>\n",
              "    </div>\n",
              "  </div>\n",
              "  "
            ]
          },
          "metadata": {},
          "execution_count": 79
        }
      ],
      "source": [
        "coins.head(30)"
      ]
    },
    {
      "cell_type": "markdown",
      "metadata": {
        "id": "KVwDhn2bL07i"
      },
      "source": [
        "Поясним значения хранящиеся в колонках\n",
        " - date - дата измерений\n",
        " - name - полное название монеты\n",
        " - symbol - сокращенное название монеты\n",
        " - price - средняя цена монеты за торговый день в USD\n",
        " - txCount - количество транзакций в сети данной монеты\n",
        " - txVolume - объем монет переведенных между адресами в сети данной монеты\n",
        " - activeAddresses - количество адресов совершавших а данный день транзации в сети данной монеты\n",
        " - open - цена монеты в начале торгов данного дня\n",
        " - close - цена монеты в конце торгов данного дня\n",
        " - high - самая высокая цена данной монеты в течение данного торгового дня\n",
        " - low - самая низкая цена данной монеты в течение данного торгового дня\n",
        " - volume - объем торгов данной монетой на биржах в данный день\n",
        " - market - капитализация данной монеты в данный день"
      ]
    },
    {
      "cell_type": "markdown",
      "source": [
        "Изучим полученные данные. Ответьте на следующие вопросы (вставляйте клетки с кодом и тектом ниже):"
      ],
      "metadata": {
        "id": "_q8b6IndNKmV"
      }
    },
    {
      "cell_type": "markdown",
      "metadata": {
        "id": "7ud0R7PcL07k"
      },
      "source": [
        "### 1. Сколько всего различных монет представлено в датасете? (0.4 балла)"
      ]
    },
    {
      "cell_type": "code",
      "execution_count": 97,
      "metadata": {
        "id": "oN2d3V71L07m",
        "colab": {
          "base_uri": "https://localhost:8080/"
        },
        "outputId": "0c58df6d-423b-40c2-eca3-9473fc02f865"
      },
      "outputs": [
        {
          "output_type": "execute_result",
          "data": {
            "text/plain": [
              "70"
            ]
          },
          "metadata": {},
          "execution_count": 97
        }
      ],
      "source": [
        "list1 = coins['name'].tolist()\n",
        "sett = set(list1)\n",
        "len(sett)"
      ]
    },
    {
      "cell_type": "markdown",
      "metadata": {
        "id": "TDffn2rLL07n"
      },
      "source": [
        "### 2. За какой период данные мы имеем? (0.4 балла)"
      ]
    },
    {
      "cell_type": "code",
      "execution_count": 99,
      "metadata": {
        "id": "7Ucmnjv1L07p",
        "colab": {
          "base_uri": "https://localhost:8080/"
        },
        "outputId": "ca3ce693-81b6-454b-cfd1-3aa506c905ba"
      },
      "outputs": [
        {
          "output_type": "stream",
          "name": "stdout",
          "text": [
            "Начало:  2013-04-28 00:00:00\n",
            "Конец:  2018-06-06 00:00:00\n"
          ]
        }
      ],
      "source": [
        "\n",
        "print(\"Начало: \", coins.index.min()) \n",
        "print(\"Конец: \", coins.index.max())\n"
      ]
    },
    {
      "cell_type": "markdown",
      "metadata": {
        "id": "XFHJsy_5L07p"
      },
      "source": [
        "### 3. Есть ли пропуски в данных? Какой природы эти пропуски, чем они скорее всего вызваны? (0.5 балла)"
      ]
    },
    {
      "cell_type": "code",
      "execution_count": 84,
      "metadata": {
        "id": "D-nOmmFjL07r",
        "colab": {
          "base_uri": "https://localhost:8080/"
        },
        "outputId": "cb85c0d2-433c-4d5b-e824-f57566a8e736"
      },
      "outputs": [
        {
          "output_type": "execute_result",
          "data": {
            "text/plain": [
              "price               327\n",
              "txCount            1520\n",
              "txVolume           1830\n",
              "activeAddresses    1520\n",
              "symbol                0\n",
              "name                  0\n",
              "open                  0\n",
              "high                  0\n",
              "low                   0\n",
              "close                 0\n",
              "volume                0\n",
              "market                0\n",
              "dtype: int64"
            ]
          },
          "metadata": {},
          "execution_count": 84
        }
      ],
      "source": [
        "pd.isnull(coins)\n",
        "coins.isnull().sum()"
      ]
    },
    {
      "cell_type": "markdown",
      "metadata": {
        "id": "Da-aXu_hL07s"
      },
      "source": [
        "### 4. У какой монеты и когда была самая высокая цена? (0.2 балла)"
      ]
    },
    {
      "cell_type": "code",
      "execution_count": 100,
      "metadata": {
        "id": "-D50115vL07t",
        "colab": {
          "base_uri": "https://localhost:8080/"
        },
        "outputId": "c68eaae8-2fc4-439e-ca5b-b6cdce1c195b"
      },
      "outputs": [
        {
          "output_type": "execute_result",
          "data": {
            "text/plain": [
              "date\n",
              "2017-12-17    Bitcoin\n",
              "Name: name, dtype: object"
            ]
          },
          "metadata": {},
          "execution_count": 100
        }
      ],
      "source": [
        "coins[coins['price'] == coins['price'].max()]['name']"
      ]
    },
    {
      "cell_type": "markdown",
      "metadata": {
        "id": "3F9UdmukL07u"
      },
      "source": [
        "### 5. У какой монеты самая высокая и самая низкая суммарная капитализация? Постройте круговую диаграмму с долями. (0.5 балла)"
      ]
    },
    {
      "cell_type": "code",
      "execution_count": 88,
      "metadata": {
        "id": "VeoJsuP6L07v",
        "colab": {
          "base_uri": "https://localhost:8080/",
          "height": 630
        },
        "outputId": "021e8e97-3b44-4867-922f-98449f95efc3"
      },
      "outputs": [
        {
          "output_type": "stream",
          "name": "stdout",
          "text": [
            "MAX  Bitcoin\n",
            "MIN  KingN Coin\n"
          ]
        },
        {
          "output_type": "execute_result",
          "data": {
            "text/plain": [
              "array([<matplotlib.axes._subplots.AxesSubplot object at 0x7f331ef2c580>],\n",
              "      dtype=object)"
            ]
          },
          "metadata": {},
          "execution_count": 88
        },
        {
          "output_type": "display_data",
          "data": {
            "text/plain": [
              "<Figure size 1440x720 with 1 Axes>"
            ],
            "image/png": "[encoded data removed]"
          },
          "metadata": {}
        }
      ],
      "source": [
        "capitalisation = coins.groupby('name')['market'].sum()\n",
        "print('MAX ', capitalisation.idxmax())\n",
        "print('MIN ', capitalisation.idxmin())\n",
        "capitalisation.plot.pie(subplots=True, figsize=(20,10))\n"
      ]
    },
    {
      "cell_type": "markdown",
      "metadata": {
        "id": "Q2uOSfUsL07w"
      },
      "source": [
        "## 2. Визуализация (1 балл)"
      ]
    },
    {
      "cell_type": "markdown",
      "metadata": {
        "id": "uwjJ-L7tL07w"
      },
      "source": [
        "Самая интересная часть работы аналитика состоит во внимательном вглядывании в правильно выбранные и построенные графики."
      ]
    },
    {
      "cell_type": "markdown",
      "source": [],
      "metadata": {
        "id": "NWn-zUriuG05"
      }
    },
    {
      "cell_type": "markdown",
      "source": [
        "**Реализуйте функцию для визуализации цен выбранной валюты за выбранный диапазон дат.**"
      ],
      "metadata": {
        "id": "mtUf5gGiNa6z"
      }
    },
    {
      "cell_type": "markdown",
      "metadata": {
        "id": "9qevVDaEL07x"
      },
      "source": [
        "На графике должны быть видны цены начала и конца продаж. А так же минимальная и максимальная цена за этот день.\n",
        "Подпишите график и оси координат. Добавьте сетку. Увеличьте размер изображения.\n",
        "Можете попробовать использовать `matplotlib.finance.candlestick_ohlc` (`mpl_finance.candlestick_ohlc`), но можно и без него."
      ]
    },
    {
      "cell_type": "code",
      "execution_count": 14,
      "metadata": {
        "scrolled": false,
        "id": "mR_RvLetL07y"
      },
      "outputs": [],
      "source": [
        "\n",
        "def plot_fancy_price_action(coins, symbol, start_date, end_date):\n",
        "  \n",
        "\n",
        "\n"
      ]
    },
    {
      "cell_type": "markdown",
      "metadata": {
        "id": "C1F_4oSmL07z"
      },
      "source": [
        "Посмотрим, что получилось:"
      ]
    },
    {
      "cell_type": "code",
      "execution_count": 15,
      "metadata": {
        "id": "VIF6IvysL070",
        "colab": {
          "base_uri": "https://localhost:8080/",
          "height": 658
        },
        "outputId": "4a2ce8b6-191c-4e38-8955-a58eebbb7c56"
      },
      "outputs": [
        {
          "output_type": "error",
          "ename": "TypeError",
          "evalue": "ignored",
          "traceback": [
            "\u001b[0;31m---------------------------------------------------------------------------\u001b[0m",
            "\u001b[0;31mKeyError\u001b[0m                                  Traceback (most recent call last)",
            "\u001b[0;32m/usr/local/lib/python3.8/dist-packages/pandas/core/indexes/base.py\u001b[0m in \u001b[0;36mget_loc\u001b[0;34m(self, key, method, tolerance)\u001b[0m\n\u001b[1;32m   3360\u001b[0m             \u001b[0;32mtry\u001b[0m\u001b[0;34m:\u001b[0m\u001b[0;34m\u001b[0m\u001b[0;34m\u001b[0m\u001b[0m\n\u001b[0;32m-> 3361\u001b[0;31m                 \u001b[0;32mreturn\u001b[0m \u001b[0mself\u001b[0m\u001b[0;34m.\u001b[0m\u001b[0m_engine\u001b[0m\u001b[0;34m.\u001b[0m\u001b[0mget_loc\u001b[0m\u001b[0;34m(\u001b[0m\u001b[0mcasted_key\u001b[0m\u001b[0;34m)\u001b[0m\u001b[0;34m\u001b[0m\u001b[0;34m\u001b[0m\u001b[0m\n\u001b[0m\u001b[1;32m   3362\u001b[0m             \u001b[0;32mexcept\u001b[0m \u001b[0mKeyError\u001b[0m \u001b[0;32mas\u001b[0m \u001b[0merr\u001b[0m\u001b[0;34m:\u001b[0m\u001b[0;34m\u001b[0m\u001b[0;34m\u001b[0m\u001b[0m\n",
            "\u001b[0;32m/usr/local/lib/python3.8/dist-packages/pandas/_libs/index.pyx\u001b[0m in \u001b[0;36mpandas._libs.index.IndexEngine.get_loc\u001b[0;34m()\u001b[0m\n",
            "\u001b[0;32m/usr/local/lib/python3.8/dist-packages/pandas/_libs/index.pyx\u001b[0m in \u001b[0;36mpandas._libs.index.IndexEngine.get_loc\u001b[0;34m()\u001b[0m\n",
            "\u001b[0;32mpandas/_libs/hashtable_class_helper.pxi\u001b[0m in \u001b[0;36mpandas._libs.hashtable.PyObjectHashTable.get_item\u001b[0;34m()\u001b[0m\n",
            "\u001b[0;32mpandas/_libs/hashtable_class_helper.pxi\u001b[0m in \u001b[0;36mpandas._libs.hashtable.PyObjectHashTable.get_item\u001b[0;34m()\u001b[0m\n",
            "\u001b[0;31mKeyError\u001b[0m: Timestamp('2013-06-01 00:00:00')",
            "\nThe above exception was the direct cause of the following exception:\n",
            "\u001b[0;31mKeyError\u001b[0m                                  Traceback (most recent call last)",
            "\u001b[0;32m/usr/local/lib/python3.8/dist-packages/pandas/core/indexes/base.py\u001b[0m in \u001b[0;36mget_slice_bound\u001b[0;34m(self, label, side, kind)\u001b[0m\n\u001b[1;32m   5800\u001b[0m         \u001b[0;32mtry\u001b[0m\u001b[0;34m:\u001b[0m\u001b[0;34m\u001b[0m\u001b[0;34m\u001b[0m\u001b[0m\n\u001b[0;32m-> 5801\u001b[0;31m             \u001b[0mslc\u001b[0m \u001b[0;34m=\u001b[0m \u001b[0mself\u001b[0m\u001b[0;34m.\u001b[0m\u001b[0mget_loc\u001b[0m\u001b[0;34m(\u001b[0m\u001b[0mlabel\u001b[0m\u001b[0;34m)\u001b[0m\u001b[0;34m\u001b[0m\u001b[0;34m\u001b[0m\u001b[0m\n\u001b[0m\u001b[1;32m   5802\u001b[0m         \u001b[0;32mexcept\u001b[0m \u001b[0mKeyError\u001b[0m \u001b[0;32mas\u001b[0m \u001b[0merr\u001b[0m\u001b[0;34m:\u001b[0m\u001b[0;34m\u001b[0m\u001b[0;34m\u001b[0m\u001b[0m\n",
            "\u001b[0;32m/usr/local/lib/python3.8/dist-packages/pandas/core/indexes/base.py\u001b[0m in \u001b[0;36mget_loc\u001b[0;34m(self, key, method, tolerance)\u001b[0m\n\u001b[1;32m   3362\u001b[0m             \u001b[0;32mexcept\u001b[0m \u001b[0mKeyError\u001b[0m \u001b[0;32mas\u001b[0m \u001b[0merr\u001b[0m\u001b[0;34m:\u001b[0m\u001b[0;34m\u001b[0m\u001b[0;34m\u001b[0m\u001b[0m\n\u001b[0;32m-> 3363\u001b[0;31m                 \u001b[0;32mraise\u001b[0m \u001b[0mKeyError\u001b[0m\u001b[0;34m(\u001b[0m\u001b[0mkey\u001b[0m\u001b[0;34m)\u001b[0m \u001b[0;32mfrom\u001b[0m \u001b[0merr\u001b[0m\u001b[0;34m\u001b[0m\u001b[0;34m\u001b[0m\u001b[0m\n\u001b[0m\u001b[1;32m   3364\u001b[0m \u001b[0;34m\u001b[0m\u001b[0m\n",
            "\u001b[0;31mKeyError\u001b[0m: Timestamp('2013-06-01 00:00:00')",
            "\nDuring handling of the above exception, another exception occurred:\n",
            "\u001b[0;31mTypeError\u001b[0m                                 Traceback (most recent call last)",
            "\u001b[0;32m<ipython-input-15-73f2925123b0>\u001b[0m in \u001b[0;36m<module>\u001b[0;34m\u001b[0m\n\u001b[0;32m----> 1\u001b[0;31m \u001b[0mplot_fancy_price_action\u001b[0m\u001b[0;34m(\u001b[0m\u001b[0mcoins\u001b[0m\u001b[0;34m=\u001b[0m\u001b[0mcoins\u001b[0m\u001b[0;34m,\u001b[0m \u001b[0msymbol\u001b[0m\u001b[0;34m=\u001b[0m\u001b[0;34m'VERI'\u001b[0m\u001b[0;34m,\u001b[0m \u001b[0mstart_date\u001b[0m\u001b[0;34m=\u001b[0m\u001b[0;34m'2013-06-01'\u001b[0m\u001b[0;34m,\u001b[0m \u001b[0mend_date\u001b[0m\u001b[0;34m=\u001b[0m\u001b[0;34m'2019-06-30'\u001b[0m\u001b[0;34m)\u001b[0m\u001b[0;34m\u001b[0m\u001b[0;34m\u001b[0m\u001b[0m\n\u001b[0m",
            "\u001b[0;32m<ipython-input-14-1569db09d965>\u001b[0m in \u001b[0;36mplot_fancy_price_action\u001b[0;34m(coins, symbol, start_date, end_date)\u001b[0m\n\u001b[1;32m      1\u001b[0m \u001b[0;32mdef\u001b[0m \u001b[0mplot_fancy_price_action\u001b[0m\u001b[0;34m(\u001b[0m\u001b[0mcoins\u001b[0m\u001b[0;34m,\u001b[0m \u001b[0msymbol\u001b[0m\u001b[0;34m,\u001b[0m \u001b[0mstart_date\u001b[0m\u001b[0;34m,\u001b[0m \u001b[0mend_date\u001b[0m\u001b[0;34m)\u001b[0m\u001b[0;34m:\u001b[0m\u001b[0;34m\u001b[0m\u001b[0;34m\u001b[0m\u001b[0m\n\u001b[0;32m----> 2\u001b[0;31m    \u001b[0mohlc\u001b[0m \u001b[0;34m=\u001b[0m \u001b[0mcoins\u001b[0m\u001b[0;34m[\u001b[0m\u001b[0mcoins\u001b[0m\u001b[0;34m.\u001b[0m\u001b[0msymbol\u001b[0m \u001b[0;34m==\u001b[0m \u001b[0msymbol\u001b[0m\u001b[0;34m]\u001b[0m\u001b[0;34m[\u001b[0m\u001b[0mpd\u001b[0m\u001b[0;34m.\u001b[0m\u001b[0mto_datetime\u001b[0m\u001b[0;34m(\u001b[0m\u001b[0mstart_date\u001b[0m\u001b[0;34m)\u001b[0m\u001b[0;34m:\u001b[0m\u001b[0mpd\u001b[0m\u001b[0;34m.\u001b[0m\u001b[0mto_datetime\u001b[0m\u001b[0;34m(\u001b[0m\u001b[0mend_date\u001b[0m\u001b[0;34m)\u001b[0m\u001b[0;34m]\u001b[0m\u001b[0;34m\u001b[0m\u001b[0;34m\u001b[0m\u001b[0m\n\u001b[0m\u001b[1;32m      3\u001b[0m    \u001b[0mmpf\u001b[0m\u001b[0;34m.\u001b[0m\u001b[0mplot\u001b[0m\u001b[0;34m(\u001b[0m\u001b[0mohlc\u001b[0m\u001b[0;34m,\u001b[0m \u001b[0mtype\u001b[0m\u001b[0;34m=\u001b[0m\u001b[0;34m'candle'\u001b[0m\u001b[0;34m,\u001b[0m \u001b[0mmav\u001b[0m\u001b[0;34m=\u001b[0m\u001b[0;34m(\u001b[0m\u001b[0;36m3\u001b[0m\u001b[0;34m,\u001b[0m\u001b[0;36m6\u001b[0m\u001b[0;34m,\u001b[0m\u001b[0;36m9\u001b[0m\u001b[0;34m)\u001b[0m \u001b[0;34m,\u001b[0m \u001b[0mvolume\u001b[0m\u001b[0;34m=\u001b[0m\u001b[0;32mTrue\u001b[0m\u001b[0;34m,\u001b[0m \u001b[0mstyle\u001b[0m\u001b[0;34m=\u001b[0m\u001b[0;34m'charles'\u001b[0m\u001b[0;34m,\u001b[0m \u001b[0mtitle\u001b[0m \u001b[0;34m=\u001b[0m \u001b[0msymbol\u001b[0m\u001b[0;34m,\u001b[0m \u001b[0mscale_padding\u001b[0m \u001b[0;34m=\u001b[0m \u001b[0;36m0.3\u001b[0m\u001b[0;34m)\u001b[0m\u001b[0;34m\u001b[0m\u001b[0;34m\u001b[0m\u001b[0m\n\u001b[1;32m      4\u001b[0m \u001b[0;34m\u001b[0m\u001b[0m\n",
            "\u001b[0;32m/usr/local/lib/python3.8/dist-packages/pandas/core/frame.py\u001b[0m in \u001b[0;36m__getitem__\u001b[0;34m(self, key)\u001b[0m\n\u001b[1;32m   3428\u001b[0m \u001b[0;34m\u001b[0m\u001b[0m\n\u001b[1;32m   3429\u001b[0m         \u001b[0;31m# Do we have a slicer (on rows)?\u001b[0m\u001b[0;34m\u001b[0m\u001b[0;34m\u001b[0m\u001b[0;34m\u001b[0m\u001b[0m\n\u001b[0;32m-> 3430\u001b[0;31m         \u001b[0mindexer\u001b[0m \u001b[0;34m=\u001b[0m \u001b[0mconvert_to_index_sliceable\u001b[0m\u001b[0;34m(\u001b[0m\u001b[0mself\u001b[0m\u001b[0;34m,\u001b[0m \u001b[0mkey\u001b[0m\u001b[0;34m)\u001b[0m\u001b[0;34m\u001b[0m\u001b[0;34m\u001b[0m\u001b[0m\n\u001b[0m\u001b[1;32m   3431\u001b[0m         \u001b[0;32mif\u001b[0m \u001b[0mindexer\u001b[0m \u001b[0;32mis\u001b[0m \u001b[0;32mnot\u001b[0m \u001b[0;32mNone\u001b[0m\u001b[0;34m:\u001b[0m\u001b[0;34m\u001b[0m\u001b[0;34m\u001b[0m\u001b[0m\n\u001b[1;32m   3432\u001b[0m             \u001b[0;32mif\u001b[0m \u001b[0misinstance\u001b[0m\u001b[0;34m(\u001b[0m\u001b[0mindexer\u001b[0m\u001b[0;34m,\u001b[0m \u001b[0mnp\u001b[0m\u001b[0;34m.\u001b[0m\u001b[0mndarray\u001b[0m\u001b[0;34m)\u001b[0m\u001b[0;34m:\u001b[0m\u001b[0;34m\u001b[0m\u001b[0;34m\u001b[0m\u001b[0m\n",
            "\u001b[0;32m/usr/local/lib/python3.8/dist-packages/pandas/core/indexing.py\u001b[0m in \u001b[0;36mconvert_to_index_sliceable\u001b[0;34m(obj, key)\u001b[0m\n\u001b[1;32m   2327\u001b[0m     \u001b[0midx\u001b[0m \u001b[0;34m=\u001b[0m \u001b[0mobj\u001b[0m\u001b[0;34m.\u001b[0m\u001b[0mindex\u001b[0m\u001b[0;34m\u001b[0m\u001b[0;34m\u001b[0m\u001b[0m\n\u001b[1;32m   2328\u001b[0m     \u001b[0;32mif\u001b[0m \u001b[0misinstance\u001b[0m\u001b[0;34m(\u001b[0m\u001b[0mkey\u001b[0m\u001b[0;34m,\u001b[0m \u001b[0mslice\u001b[0m\u001b[0;34m)\u001b[0m\u001b[0;34m:\u001b[0m\u001b[0;34m\u001b[0m\u001b[0;34m\u001b[0m\u001b[0m\n\u001b[0;32m-> 2329\u001b[0;31m         \u001b[0;32mreturn\u001b[0m \u001b[0midx\u001b[0m\u001b[0;34m.\u001b[0m\u001b[0m_convert_slice_indexer\u001b[0m\u001b[0;34m(\u001b[0m\u001b[0mkey\u001b[0m\u001b[0;34m,\u001b[0m \u001b[0mkind\u001b[0m\u001b[0;34m=\u001b[0m\u001b[0;34m\"getitem\"\u001b[0m\u001b[0;34m)\u001b[0m\u001b[0;34m\u001b[0m\u001b[0;34m\u001b[0m\u001b[0m\n\u001b[0m\u001b[1;32m   2330\u001b[0m \u001b[0;34m\u001b[0m\u001b[0m\n\u001b[1;32m   2331\u001b[0m     \u001b[0;32melif\u001b[0m \u001b[0misinstance\u001b[0m\u001b[0;34m(\u001b[0m\u001b[0mkey\u001b[0m\u001b[0;34m,\u001b[0m \u001b[0mstr\u001b[0m\u001b[0;34m)\u001b[0m\u001b[0;34m:\u001b[0m\u001b[0;34m\u001b[0m\u001b[0;34m\u001b[0m\u001b[0m\n",
            "\u001b[0;32m/usr/local/lib/python3.8/dist-packages/pandas/core/indexes/base.py\u001b[0m in \u001b[0;36m_convert_slice_indexer\u001b[0;34m(self, key, kind)\u001b[0m\n\u001b[1;32m   3751\u001b[0m             \u001b[0mindexer\u001b[0m \u001b[0;34m=\u001b[0m \u001b[0mkey\u001b[0m\u001b[0;34m\u001b[0m\u001b[0;34m\u001b[0m\u001b[0m\n\u001b[1;32m   3752\u001b[0m         \u001b[0;32melse\u001b[0m\u001b[0;34m:\u001b[0m\u001b[0;34m\u001b[0m\u001b[0;34m\u001b[0m\u001b[0m\n\u001b[0;32m-> 3753\u001b[0;31m             \u001b[0mindexer\u001b[0m \u001b[0;34m=\u001b[0m \u001b[0mself\u001b[0m\u001b[0;34m.\u001b[0m\u001b[0mslice_indexer\u001b[0m\u001b[0;34m(\u001b[0m\u001b[0mstart\u001b[0m\u001b[0;34m,\u001b[0m \u001b[0mstop\u001b[0m\u001b[0;34m,\u001b[0m \u001b[0mstep\u001b[0m\u001b[0;34m)\u001b[0m\u001b[0;34m\u001b[0m\u001b[0;34m\u001b[0m\u001b[0m\n\u001b[0m\u001b[1;32m   3754\u001b[0m \u001b[0;34m\u001b[0m\u001b[0m\n\u001b[1;32m   3755\u001b[0m         \u001b[0;32mreturn\u001b[0m \u001b[0mindexer\u001b[0m\u001b[0;34m\u001b[0m\u001b[0;34m\u001b[0m\u001b[0m\n",
            "\u001b[0;32m/usr/local/lib/python3.8/dist-packages/pandas/core/indexes/base.py\u001b[0m in \u001b[0;36mslice_indexer\u001b[0;34m(self, start, end, step, kind)\u001b[0m\n\u001b[1;32m   5683\u001b[0m         \u001b[0mslice\u001b[0m\u001b[0;34m(\u001b[0m\u001b[0;36m1\u001b[0m\u001b[0;34m,\u001b[0m \u001b[0;36m3\u001b[0m\u001b[0;34m,\u001b[0m \u001b[0;32mNone\u001b[0m\u001b[0;34m)\u001b[0m\u001b[0;34m\u001b[0m\u001b[0;34m\u001b[0m\u001b[0m\n\u001b[1;32m   5684\u001b[0m         \"\"\"\n\u001b[0;32m-> 5685\u001b[0;31m         \u001b[0mstart_slice\u001b[0m\u001b[0;34m,\u001b[0m \u001b[0mend_slice\u001b[0m \u001b[0;34m=\u001b[0m \u001b[0mself\u001b[0m\u001b[0;34m.\u001b[0m\u001b[0mslice_locs\u001b[0m\u001b[0;34m(\u001b[0m\u001b[0mstart\u001b[0m\u001b[0;34m,\u001b[0m \u001b[0mend\u001b[0m\u001b[0;34m,\u001b[0m \u001b[0mstep\u001b[0m\u001b[0;34m=\u001b[0m\u001b[0mstep\u001b[0m\u001b[0;34m)\u001b[0m\u001b[0;34m\u001b[0m\u001b[0;34m\u001b[0m\u001b[0m\n\u001b[0m\u001b[1;32m   5686\u001b[0m \u001b[0;34m\u001b[0m\u001b[0m\n\u001b[1;32m   5687\u001b[0m         \u001b[0;31m# return a slice\u001b[0m\u001b[0;34m\u001b[0m\u001b[0;34m\u001b[0m\u001b[0;34m\u001b[0m\u001b[0m\n",
            "\u001b[0;32m/usr/local/lib/python3.8/dist-packages/pandas/core/indexes/base.py\u001b[0m in \u001b[0;36mslice_locs\u001b[0;34m(self, start, end, step, kind)\u001b[0m\n\u001b[1;32m   5885\u001b[0m         \u001b[0mstart_slice\u001b[0m \u001b[0;34m=\u001b[0m \u001b[0;32mNone\u001b[0m\u001b[0;34m\u001b[0m\u001b[0;34m\u001b[0m\u001b[0m\n\u001b[1;32m   5886\u001b[0m         \u001b[0;32mif\u001b[0m \u001b[0mstart\u001b[0m \u001b[0;32mis\u001b[0m \u001b[0;32mnot\u001b[0m \u001b[0;32mNone\u001b[0m\u001b[0;34m:\u001b[0m\u001b[0;34m\u001b[0m\u001b[0;34m\u001b[0m\u001b[0m\n\u001b[0;32m-> 5887\u001b[0;31m             \u001b[0mstart_slice\u001b[0m \u001b[0;34m=\u001b[0m \u001b[0mself\u001b[0m\u001b[0;34m.\u001b[0m\u001b[0mget_slice_bound\u001b[0m\u001b[0;34m(\u001b[0m\u001b[0mstart\u001b[0m\u001b[0;34m,\u001b[0m \u001b[0;34m\"left\"\u001b[0m\u001b[0;34m)\u001b[0m\u001b[0;34m\u001b[0m\u001b[0;34m\u001b[0m\u001b[0m\n\u001b[0m\u001b[1;32m   5888\u001b[0m         \u001b[0;32mif\u001b[0m \u001b[0mstart_slice\u001b[0m \u001b[0;32mis\u001b[0m \u001b[0;32mNone\u001b[0m\u001b[0;34m:\u001b[0m\u001b[0;34m\u001b[0m\u001b[0;34m\u001b[0m\u001b[0m\n\u001b[1;32m   5889\u001b[0m             \u001b[0mstart_slice\u001b[0m \u001b[0;34m=\u001b[0m \u001b[0;36m0\u001b[0m\u001b[0;34m\u001b[0m\u001b[0;34m\u001b[0m\u001b[0m\n",
            "\u001b[0;32m/usr/local/lib/python3.8/dist-packages/pandas/core/indexes/base.py\u001b[0m in \u001b[0;36mget_slice_bound\u001b[0;34m(self, label, side, kind)\u001b[0m\n\u001b[1;32m   5802\u001b[0m         \u001b[0;32mexcept\u001b[0m \u001b[0mKeyError\u001b[0m \u001b[0;32mas\u001b[0m \u001b[0merr\u001b[0m\u001b[0;34m:\u001b[0m\u001b[0;34m\u001b[0m\u001b[0;34m\u001b[0m\u001b[0m\n\u001b[1;32m   5803\u001b[0m             \u001b[0;32mtry\u001b[0m\u001b[0;34m:\u001b[0m\u001b[0;34m\u001b[0m\u001b[0;34m\u001b[0m\u001b[0m\n\u001b[0;32m-> 5804\u001b[0;31m                 \u001b[0;32mreturn\u001b[0m \u001b[0mself\u001b[0m\u001b[0;34m.\u001b[0m\u001b[0m_searchsorted_monotonic\u001b[0m\u001b[0;34m(\u001b[0m\u001b[0mlabel\u001b[0m\u001b[0;34m,\u001b[0m \u001b[0mside\u001b[0m\u001b[0;34m)\u001b[0m\u001b[0;34m\u001b[0m\u001b[0;34m\u001b[0m\u001b[0m\n\u001b[0m\u001b[1;32m   5805\u001b[0m             \u001b[0;32mexcept\u001b[0m \u001b[0mValueError\u001b[0m\u001b[0;34m:\u001b[0m\u001b[0;34m\u001b[0m\u001b[0;34m\u001b[0m\u001b[0m\n\u001b[1;32m   5806\u001b[0m                 \u001b[0;31m# raise the original KeyError\u001b[0m\u001b[0;34m\u001b[0m\u001b[0;34m\u001b[0m\u001b[0;34m\u001b[0m\u001b[0m\n",
            "\u001b[0;32m/usr/local/lib/python3.8/dist-packages/pandas/core/indexes/base.py\u001b[0m in \u001b[0;36m_searchsorted_monotonic\u001b[0;34m(self, label, side)\u001b[0m\n\u001b[1;32m   5753\u001b[0m     \u001b[0;32mdef\u001b[0m \u001b[0m_searchsorted_monotonic\u001b[0m\u001b[0;34m(\u001b[0m\u001b[0mself\u001b[0m\u001b[0;34m,\u001b[0m \u001b[0mlabel\u001b[0m\u001b[0;34m,\u001b[0m \u001b[0mside\u001b[0m\u001b[0;34m:\u001b[0m \u001b[0mstr_t\u001b[0m \u001b[0;34m=\u001b[0m \u001b[0;34m\"left\"\u001b[0m\u001b[0;34m)\u001b[0m\u001b[0;34m:\u001b[0m\u001b[0;34m\u001b[0m\u001b[0;34m\u001b[0m\u001b[0m\n\u001b[1;32m   5754\u001b[0m         \u001b[0;32mif\u001b[0m \u001b[0mself\u001b[0m\u001b[0;34m.\u001b[0m\u001b[0mis_monotonic_increasing\u001b[0m\u001b[0;34m:\u001b[0m\u001b[0;34m\u001b[0m\u001b[0;34m\u001b[0m\u001b[0m\n\u001b[0;32m-> 5755\u001b[0;31m             \u001b[0;32mreturn\u001b[0m \u001b[0mself\u001b[0m\u001b[0;34m.\u001b[0m\u001b[0msearchsorted\u001b[0m\u001b[0;34m(\u001b[0m\u001b[0mlabel\u001b[0m\u001b[0;34m,\u001b[0m \u001b[0mside\u001b[0m\u001b[0;34m=\u001b[0m\u001b[0mside\u001b[0m\u001b[0;34m)\u001b[0m\u001b[0;34m\u001b[0m\u001b[0;34m\u001b[0m\u001b[0m\n\u001b[0m\u001b[1;32m   5756\u001b[0m         \u001b[0;32melif\u001b[0m \u001b[0mself\u001b[0m\u001b[0;34m.\u001b[0m\u001b[0mis_monotonic_decreasing\u001b[0m\u001b[0;34m:\u001b[0m\u001b[0;34m\u001b[0m\u001b[0;34m\u001b[0m\u001b[0m\n\u001b[1;32m   5757\u001b[0m             \u001b[0;31m# np.searchsorted expects ascending sort order, have to reverse\u001b[0m\u001b[0;34m\u001b[0m\u001b[0;34m\u001b[0m\u001b[0;34m\u001b[0m\u001b[0m\n",
            "\u001b[0;32m/usr/local/lib/python3.8/dist-packages/pandas/core/base.py\u001b[0m in \u001b[0;36msearchsorted\u001b[0;34m(self, value, side, sorter)\u001b[0m\n\u001b[1;32m   1219\u001b[0m     \u001b[0;34m@\u001b[0m\u001b[0mdoc\u001b[0m\u001b[0;34m(\u001b[0m\u001b[0m_shared_docs\u001b[0m\u001b[0;34m[\u001b[0m\u001b[0;34m\"searchsorted\"\u001b[0m\u001b[0;34m]\u001b[0m\u001b[0;34m,\u001b[0m \u001b[0mklass\u001b[0m\u001b[0;34m=\u001b[0m\u001b[0;34m\"Index\"\u001b[0m\u001b[0;34m)\u001b[0m\u001b[0;34m\u001b[0m\u001b[0;34m\u001b[0m\u001b[0m\n\u001b[1;32m   1220\u001b[0m     \u001b[0;32mdef\u001b[0m \u001b[0msearchsorted\u001b[0m\u001b[0;34m(\u001b[0m\u001b[0mself\u001b[0m\u001b[0;34m,\u001b[0m \u001b[0mvalue\u001b[0m\u001b[0;34m,\u001b[0m \u001b[0mside\u001b[0m\u001b[0;34m=\u001b[0m\u001b[0;34m\"left\"\u001b[0m\u001b[0;34m,\u001b[0m \u001b[0msorter\u001b[0m\u001b[0;34m=\u001b[0m\u001b[0;32mNone\u001b[0m\u001b[0;34m)\u001b[0m \u001b[0;34m->\u001b[0m \u001b[0mnp\u001b[0m\u001b[0;34m.\u001b[0m\u001b[0mndarray\u001b[0m\u001b[0;34m:\u001b[0m\u001b[0;34m\u001b[0m\u001b[0;34m\u001b[0m\u001b[0m\n\u001b[0;32m-> 1221\u001b[0;31m         \u001b[0;32mreturn\u001b[0m \u001b[0malgorithms\u001b[0m\u001b[0;34m.\u001b[0m\u001b[0msearchsorted\u001b[0m\u001b[0;34m(\u001b[0m\u001b[0mself\u001b[0m\u001b[0;34m.\u001b[0m\u001b[0m_values\u001b[0m\u001b[0;34m,\u001b[0m \u001b[0mvalue\u001b[0m\u001b[0;34m,\u001b[0m \u001b[0mside\u001b[0m\u001b[0;34m=\u001b[0m\u001b[0mside\u001b[0m\u001b[0;34m,\u001b[0m \u001b[0msorter\u001b[0m\u001b[0;34m=\u001b[0m\u001b[0msorter\u001b[0m\u001b[0;34m)\u001b[0m\u001b[0;34m\u001b[0m\u001b[0;34m\u001b[0m\u001b[0m\n\u001b[0m\u001b[1;32m   1222\u001b[0m \u001b[0;34m\u001b[0m\u001b[0m\n\u001b[1;32m   1223\u001b[0m     \u001b[0;32mdef\u001b[0m \u001b[0mdrop_duplicates\u001b[0m\u001b[0;34m(\u001b[0m\u001b[0mself\u001b[0m\u001b[0;34m,\u001b[0m \u001b[0mkeep\u001b[0m\u001b[0;34m=\u001b[0m\u001b[0;34m\"first\"\u001b[0m\u001b[0;34m)\u001b[0m\u001b[0;34m:\u001b[0m\u001b[0;34m\u001b[0m\u001b[0;34m\u001b[0m\u001b[0m\n",
            "\u001b[0;32m/usr/local/lib/python3.8/dist-packages/pandas/core/algorithms.py\u001b[0m in \u001b[0;36msearchsorted\u001b[0;34m(arr, value, side, sorter)\u001b[0m\n\u001b[1;32m   1599\u001b[0m         \u001b[0marr\u001b[0m \u001b[0;34m=\u001b[0m \u001b[0mensure_wrapped_if_datetimelike\u001b[0m\u001b[0;34m(\u001b[0m\u001b[0marr\u001b[0m\u001b[0;34m)\u001b[0m\u001b[0;34m\u001b[0m\u001b[0;34m\u001b[0m\u001b[0m\n\u001b[1;32m   1600\u001b[0m \u001b[0;34m\u001b[0m\u001b[0m\n\u001b[0;32m-> 1601\u001b[0;31m     \u001b[0;32mreturn\u001b[0m \u001b[0marr\u001b[0m\u001b[0;34m.\u001b[0m\u001b[0msearchsorted\u001b[0m\u001b[0;34m(\u001b[0m\u001b[0mvalue\u001b[0m\u001b[0;34m,\u001b[0m \u001b[0mside\u001b[0m\u001b[0;34m=\u001b[0m\u001b[0mside\u001b[0m\u001b[0;34m,\u001b[0m \u001b[0msorter\u001b[0m\u001b[0;34m=\u001b[0m\u001b[0msorter\u001b[0m\u001b[0;34m)\u001b[0m\u001b[0;34m\u001b[0m\u001b[0;34m\u001b[0m\u001b[0m\n\u001b[0m\u001b[1;32m   1602\u001b[0m \u001b[0;34m\u001b[0m\u001b[0m\n\u001b[1;32m   1603\u001b[0m \u001b[0;34m\u001b[0m\u001b[0m\n",
            "\u001b[0;31mTypeError\u001b[0m: '<' not supported between instances of 'str' and 'Timestamp'"
          ]
        }
      ],
      "source": [
        "plot_fancy_price_action(coins=coins, symbol='VERI', start_date='2013-06-01', end_date='2019-06-30') "
      ]
    },
    {
      "cell_type": "markdown",
      "metadata": {
        "id": "cPzieShSL070"
      },
      "source": [
        "Никакого датасаенса в этом задании нет. Просто аналитик должен уметь строить графики, либо знать готовые инструменты."
      ]
    },
    {
      "cell_type": "markdown",
      "metadata": {
        "id": "8eizRenYL071"
      },
      "source": [
        "## 3. Накачка и сброс (1 балл)"
      ]
    },
    {
      "cell_type": "markdown",
      "source": [
        "Криптовалютные биржи до сих пор остаются маргинальным местом, эдаким диким западом финансового мира. Как следствие, здесь процветают схемы относительно\n",
        "честного отъема денег. Одна из них - **pump'n'dump** (накачка и сброс). \n",
        "\n",
        "Она выглядит следуюшим образом. Несколько крупных игроков или много мелких договариваются вместе купить малоизвестную монету с низкой ценой и объемом торгов. Это приводит к мгновенному взлету цены (pump), далее приходят неопытные игроки в надежде успеть заработать на таком росте. В этот момент организаторы схемы начнают все продавать (dump). Весь процесс занимает от нескольких минут до нескольких часов."
      ],
      "metadata": {
        "id": "WFgtlhMKNjtX"
      }
    },
    {
      "cell_type": "markdown",
      "source": [
        "Ваша задача -- **найти самый сильный pump'n'dump** монеты на заданном промежутке времени. Для этого для каждого дня определим число `pnd` равное отношению максимальной цены монеты в данный день к максимуму из цен открытия и закрытия в тот же день. Нужно найти день, когда `pnd` был максимален и величину `pnd`."
      ],
      "metadata": {
        "id": "EXsHpJmHNstO"
      }
    },
    {
      "cell_type": "code",
      "execution_count": 89,
      "metadata": {
        "id": "rzA20Gm6L072"
      },
      "outputs": [],
      "source": [
        "\n",
        "def find_most_severe_pump_and_dump(coins, symbol, start_date, end_date):\n",
        "    info = coins[coins['symbol'] == symbol][start_date:end_date]\n",
        "    pnd = info.high/info[['open', 'close']].max(axis=1)\n",
        "    return pnd.idxmax(), pnd.max()"
      ]
    },
    {
      "cell_type": "code",
      "execution_count": 90,
      "metadata": {
        "id": "VZjM8FJ-L073",
        "colab": {
          "base_uri": "https://localhost:8080/"
        },
        "outputId": "a5ac9860-02eb-413a-86bd-c25d8cf4fb08"
      },
      "outputs": [
        {
          "output_type": "execute_result",
          "data": {
            "text/plain": [
              "(Timestamp('2017-11-29 00:00:00'), 1.1428940004366206)"
            ]
          },
          "metadata": {},
          "execution_count": 90
        }
      ],
      "source": [
        "find_most_severe_pump_and_dump(coins, symbol='BTC', start_date='2017-06-01', end_date='2018-06-01')"
      ]
    },
    {
      "cell_type": "markdown",
      "metadata": {
        "id": "nos0kiTFL073"
      },
      "source": [
        "Сравните эти значения для разных монет:"
      ]
    },
    {
      "cell_type": "code",
      "execution_count": 91,
      "metadata": {
        "id": "EXJgxg7HL074",
        "colab": {
          "base_uri": "https://localhost:8080/"
        },
        "outputId": "158a43cb-ae91-44bb-fc2c-242e4494c991"
      },
      "outputs": [
        {
          "output_type": "stream",
          "name": "stdout",
          "text": [
            "2\n",
            "CTXC  is ok\n",
            "USDT  is ok\n",
            "VEN  is ok\n",
            "RHOC  pumped(\n",
            "ZEC  is ok\n",
            "GAS  is ok\n",
            "ICN  pumped(\n",
            "FUN  pumped(\n",
            "NEO  pumped(\n",
            "LRC  pumped(\n",
            "WAVES  is ok\n",
            "DCR  is ok\n",
            "XLM  is ok\n",
            "DGB  pumped(\n",
            "XEM  is ok\n",
            "XVG  pumped(\n",
            "ZRX  is ok\n",
            "VTC  is ok\n",
            "DASH  pumped(\n",
            "SNT  is ok\n",
            "AE  is ok\n",
            "BAT  is ok\n",
            "MTL  is ok\n",
            "OMG  is ok\n",
            "CVC  is ok\n",
            "TRX  pumped(\n",
            "KCS  is ok\n",
            "ETHOS  is ok\n",
            "LOOM  is ok\n",
            "MAID  is ok\n",
            "ZIL  is ok\n",
            "POLY  is ok\n",
            "ENG  is ok\n",
            "SRN  is ok\n",
            "NAS  is ok\n",
            "ETC  is ok\n",
            "CENNZ  is ok\n",
            "VERI  pumped(\n",
            "REP  is ok\n",
            "BTG  pumped(\n",
            "EOS  is ok\n",
            "BTC  is ok\n",
            "PAY  is ok\n",
            "AION  is ok\n",
            "ANT  is ok\n",
            "DOGE  pumped(\n",
            "LSK  pumped(\n",
            "ICX  is ok\n",
            "POWR  is ok\n",
            "DRGN  is ok\n",
            "PPT  pumped(\n",
            "GNO  is ok\n",
            "BTM  pumped(\n",
            "ETH  is ok\n",
            "ELF  is ok\n",
            "BCH  is ok\n",
            "PIVX  pumped(\n",
            "SALT  is ok\n",
            "WTC  is ok\n",
            "GNT  is ok\n",
            "MANA  pumped(\n",
            "LTC  is ok\n",
            "ADA  is ok\n",
            "QASH  is ok\n",
            "BNB  is ok\n",
            "KNC  is ok\n"
          ]
        }
      ],
      "source": [
        "max_ok_pnd = int(input())\n",
        "for coin_symbol in set(coins.symbol):\n",
        "  pnd = find_most_severe_pump_and_dump(coins, symbol=coin_symbol, start_date='2013-04-28', end_date='2018-06-06')\n",
        "  if pnd[1] > max_ok_pnd:\n",
        "    print(coin_symbol, \" pumped(\")\n",
        "  else:\n",
        "    print(coin_symbol, \" is ok\")\n"
      ]
    },
    {
      "cell_type": "markdown",
      "metadata": {
        "id": "4I9QAGfGL074"
      },
      "source": [
        "## 4. Окупаемость инвестиций (1 балл)"
      ]
    },
    {
      "cell_type": "markdown",
      "metadata": {
        "id": "Ts7GdSZJL075"
      },
      "source": [
        "Вам нужно посчитать **окупаемость инвестиций (ROI)** в криптовалюты на заданном промежутке времени. \n",
        "\n",
        "Окупаемость определяется как отношение *изменения цены портфеля* к *исходной цене портфеля*. Цена портфеля - это суммарная стоимость (в USD) всех монет в портфеле.\n",
        "\n",
        "`investments` - словарь, в котором ключи - это названия монет, значения - это сумма вложений в эту монету (в USD)."
      ]
    },
    {
      "cell_type": "code",
      "execution_count": 94,
      "metadata": {
        "id": "RwDtgKjhL076"
      },
      "outputs": [],
      "source": [
        "def compute_roi(coins, investments, start_date, end_date):\n",
        "  start_money = sum(investments.values())\n",
        "  symbols_prices = coins[['symbol', 'price']]\n",
        "  end_coins = investments\n",
        "  for symbol in investments:\n",
        "    end_coins[symbol] = end_coins[symbol]/symbols_prices[coins['symbol'] == symbol]['price'][start_date:start_date][0] * symbols_prices[coins['symbol'] == symbol]['price'][end_date:end_date]\n",
        "  end_money = sum(end_coins.values())\n",
        "  return ((end_money - start_money) / start_money)\n",
        "\n",
        "    "
      ]
    },
    {
      "cell_type": "code",
      "execution_count": 95,
      "metadata": {
        "id": "oWW8XBrIL076",
        "colab": {
          "base_uri": "https://localhost:8080/"
        },
        "outputId": "3e81fa1f-dd4c-4305-9f2a-842d3df86703"
      },
      "outputs": [
        {
          "output_type": "execute_result",
          "data": {
            "text/plain": [
              "date\n",
              "2018-06-01   -0.035569\n",
              "Name: price, dtype: float64"
            ]
          },
          "metadata": {},
          "execution_count": 95
        }
      ],
      "source": [
        "compute_roi(coins, investments={'BTC': 1000, 'LTC': 500}, start_date='2018-04-04', end_date='2018-06-01')"
      ]
    },
    {
      "cell_type": "code",
      "execution_count": 96,
      "metadata": {
        "id": "UQDAuP_QL077",
        "colab": {
          "base_uri": "https://localhost:8080/"
        },
        "outputId": "5517bc73-7171-4217-df15-517aa90ccec6"
      },
      "outputs": [
        {
          "output_type": "execute_result",
          "data": {
            "text/plain": [
              "date\n",
              "2018-06-06    51.283303\n",
              "Name: price, dtype: float64"
            ]
          },
          "metadata": {},
          "execution_count": 96
        }
      ],
      "source": [
        "compute_roi(coins, investments={'BTC': 1000, 'LTC': 500}, start_date='2013-05-28', end_date='2018-06-06')"
      ]
    },
    {
      "cell_type": "markdown",
      "metadata": {
        "id": "Xz7CvTFqL078"
      },
      "source": [
        "## 5. Технический анализ (1 балл)"
      ]
    },
    {
      "cell_type": "markdown",
      "metadata": {
        "id": "NFsh0yEqL078"
      },
      "source": [
        "**Технический анализ** - это способ предсказания поведения графика по некоторым вспомогательным величинам построенным по исходному графику. Один из простейших методов технического анализа - **[границы Боллинджера](https://en.wikipedia.org/wiki/Bollinger_Bands)**. Кто-то верит, что график касаясь границы от него должен отражаться.\n",
        "\n",
        "Границы считаются очень просто: \n",
        "\n",
        "$$(MA \\pm K\\sigma),$$\n",
        "\n",
        "где `MA` - скользящее среднее за `N` дней, а $\\sigma$ - скользящее стандартное отклонение за `N` дней."
      ]
    },
    {
      "cell_type": "markdown",
      "metadata": {
        "id": "Mo4GLdibL079"
      },
      "source": [
        "Нарисуйте **график цены**, **скользящее среднее** и **границы Боллинджера** c параметрами `N (window) = 21`, `K (width) = 2`.\n",
        "\n",
        "Тут вам поможет функция `rolling` для подсчёта среднего и стандартного отклонения по скользящему окну.\n",
        "\n",
        "Не забудьте подписать график и оси, отрисовать легенду и выбрать для нее лучшее расположение."
      ]
    },
    {
      "cell_type": "code",
      "execution_count": null,
      "metadata": {
        "id": "zf4zMAGkL079"
      },
      "outputs": [],
      "source": [
        "def plot_bollinger_bands(coins, symbol, window, width):\n",
        "    # Paste your code here"
      ]
    },
    {
      "cell_type": "code",
      "execution_count": null,
      "metadata": {
        "id": "dWBsySLJL07-"
      },
      "outputs": [],
      "source": [
        "plot_bollinger_bands(coins=coins, symbol='EOS', window=21, width=2)  # тут должен появиться график"
      ]
    },
    {
      "cell_type": "markdown",
      "metadata": {
        "id": "pJAYp_pUL07_"
      },
      "source": [
        "**Сделайте вывод о том, выполнялось ли правило Боллинджера:**"
      ]
    },
    {
      "cell_type": "markdown",
      "metadata": {
        "id": "k7NsxSsUL07_"
      },
      "source": [
        "**Ваш ответ тут**"
      ]
    },
    {
      "cell_type": "markdown",
      "metadata": {
        "id": "41k4GlWGL08A"
      },
      "source": [
        "## 6. Капитализация как индикатор (1 балл)"
      ]
    },
    {
      "cell_type": "markdown",
      "metadata": {
        "id": "sONehy4zL08A"
      },
      "source": [
        "Многие люди, которые торгуют криптовалютой, любят смотреть на [капитализацию](https://academy.binance.com/ru/articles/crypto-market-capitalization-explained). Давайте поймём почему."
      ]
    },
    {
      "cell_type": "markdown",
      "metadata": {
        "id": "4spBUSr5L08B"
      },
      "source": [
        "**Нарисуйте еще два графика:**\n",
        "1. общая капитализация биткойна (BTC), эфира (ETH), еос (EOS), биткойн кэша (BCH), стеллара (XLM) и лайткойна (LTC)\n",
        "2. доли капитализаций этих монет от общей капитализации рынка. \n",
        "\n",
        "При этом используйте данные начиная с 2017-07-01."
      ]
    },
    {
      "cell_type": "code",
      "execution_count": null,
      "metadata": {
        "scrolled": false,
        "id": "xHMMSJg6L08B"
      },
      "outputs": [],
      "source": [
        "def plot_coins_capitalizations(coins, symbols, start_date):\n",
        "    # Paste your code here"
      ]
    },
    {
      "cell_type": "code",
      "execution_count": null,
      "metadata": {
        "id": "jOD_z5hYL08C"
      },
      "outputs": [],
      "source": [
        "plot_coins_capitalizations(\n",
        "    coins=coins,\n",
        "    symbols=('BTC', 'ETH', 'EOS', 'BCH', 'XLM', 'LTC'),\n",
        "    start_date='2017-07-01'\n",
        ")"
      ]
    },
    {
      "cell_type": "markdown",
      "metadata": {
        "id": "A_qkmlioL08C"
      },
      "source": [
        "Проанализируйте зависимость доли капитализации альткойнов (остальных монет, кроме биткойна) от доли капитализации биткойна. Как выдумаете, в чём причина такой зависимости?"
      ]
    },
    {
      "cell_type": "markdown",
      "metadata": {
        "id": "RzJXy2cjL08D"
      },
      "source": [
        "**Ваш ответ тут**"
      ]
    },
    {
      "cell_type": "markdown",
      "metadata": {
        "id": "5TtUAu7PL08E"
      },
      "source": [
        "## 7. Корреляции монет (1 балл)"
      ]
    },
    {
      "cell_type": "markdown",
      "metadata": {
        "id": "ii_8rp4YL08E"
      },
      "source": [
        "Теперь нужно подробнее посмотреть на корреляции средних долей капитализаций монет. При этом будем смотреть на среднее сглаженное за последние `window` дней до дня `date` с коэффициентом сглаживания `alpha` для набора монет `symbols`.\n",
        "\n",
        "Реализуйте функцию, которая будет возвращать квадратный `DataFrame` с числом строк и столбцов, равным числу рассматриваемых монет и со значениями корреляций:"
      ]
    },
    {
      "cell_type": "code",
      "execution_count": null,
      "metadata": {
        "id": "lxZQQuBxL08E"
      },
      "outputs": [],
      "source": [
        "def calc_coins_correlations(coins, date, symbols, window, alpha):\n",
        "    # Paste your code here"
      ]
    },
    {
      "cell_type": "code",
      "execution_count": null,
      "metadata": {
        "id": "L8iBTKhuL08F"
      },
      "outputs": [],
      "source": [
        "correlations = calc_coins_correlations(coins, date=\"2018-06-06\",\n",
        "                                       symbols=['BTC', 'ETH', 'EOS', 'BCH', 'XLM', 'LTC', 'ADA'],\n",
        "                                       window=21, alpha=0.1)\n",
        "# Теперь посмотрим на эти корреляции следующим образом:\n",
        "correlations.style.background_gradient(cmap='coolwarm').set_precision(2)"
      ]
    },
    {
      "cell_type": "markdown",
      "metadata": {
        "id": "QbBg3mgjL08F"
      },
      "source": [
        "Довольно интересно ещё взглянуть на 2017-12-27:"
      ]
    },
    {
      "cell_type": "code",
      "execution_count": null,
      "metadata": {
        "id": "IJrYVdA0L08G"
      },
      "outputs": [],
      "source": [
        "correlations = calc_coins_correlations(coins, date=\"2017-12-27\",\n",
        "                                       symbols=['BTC', 'ETH', 'EOS', 'BCH', 'XLM', 'LTC', 'ADA'],\n",
        "                                       window=21, alpha=0.1)\n",
        "# Теперь посмотрим на эти корреляции следующим образом:\n",
        "correlations.style.background_gradient(cmap='coolwarm').set_precision(2)"
      ]
    },
    {
      "cell_type": "markdown",
      "metadata": {
        "id": "D4kyPV0CL08G"
      },
      "source": [
        "## 8. Анализ одной стратегии (2 балла)"
      ]
    },
    {
      "cell_type": "markdown",
      "metadata": {
        "id": "Y8rQ5WIML08H"
      },
      "source": [
        "Разберем один мечтательный пример. Посмотрим какую прибыль могла бы нам принести хрестоматийная торговая стратегия, основанная на скользящих средних.\n",
        "\n",
        "Стратегия выглядит следующим образом: мы строим две скользящие среднии для графика цены. С маленьким окном (ведущее скользящее среднее) и с бОльшим окном (запаздывающее скользящее среднее). **Мы покупаем, когда ведущее среднее становится больше запаздывающего, и продаем в противном случае.**\n",
        "\n",
        "Посмотрим на пример:"
      ]
    },
    {
      "cell_type": "code",
      "execution_count": null,
      "metadata": {
        "id": "gEPEQGSTL08H",
        "outputId": "d4bbd2f4-ba46-45d9-c930-35daf6ae0a48"
      },
      "outputs": [
        {
          "data": {
            "image/png": "[encoded data removed]",
            "text/plain": [
              "<Figure size 1152x648 with 1 Axes>"
            ]
          },
          "metadata": {
            "needs_background": "light"
          },
          "output_type": "display_data"
        }
      ],
      "source": [
        "def plot_moving_averages(coins, symbol, leading_window, lagging_window, start_date, end_date):\n",
        "    coin = coins[coins['symbol'] == symbol][start_date:end_date]\n",
        "    price = coin['price']\n",
        "    leading_mean = price.rolling(window=leading_window).mean()\n",
        "    lagging_mean = price.rolling(window=lagging_window).mean()\n",
        "\n",
        "    fig = plt.figure(figsize=(16, 9))\n",
        "    ax = fig.add_subplot(111)\n",
        "    \n",
        "    ax.set_title('Price action for {}'.format(symbol))\n",
        "    ax.plot(leading_mean, color='green', label='MA{}'.format(leading_window))\n",
        "    ax.plot(lagging_mean, color='red', label='MA{}'.format(lagging_window))\n",
        "    ax.plot(price, color='blue', label='price')\n",
        "    ax.set_xlabel('Date')\n",
        "    ax.set_ylabel('Price')\n",
        "    ax.legend(loc='best')\n",
        "    ax.grid(True)\n",
        "    plt.show() \n",
        "\n",
        "plot_moving_averages(\n",
        "    coins=coins, \n",
        "    symbol='BTC', \n",
        "    leading_window=21, \n",
        "    lagging_window=50, \n",
        "    start_date='2017-05-01',\n",
        "    end_date='2018-08-01')"
      ]
    },
    {
      "cell_type": "markdown",
      "metadata": {
        "id": "pK6shsqJL08I"
      },
      "source": [
        "Видно, что скользящее среднее с бОльшим окном медленнее реагирует на изменение цены. Именно на этой идее и основана торговая стратегия.\n",
        "\n",
        "\n",
        "**Реализуйте функцию**, которая строит два графика. На правом будут изображены цена и скользящие средние. На левом - во сколько раз изменится размер вложений при использовании нашей стратегии и при обычном инвестировании (купили и держим, смотрим как растет цена наших купленных валют)."
      ]
    },
    {
      "cell_type": "markdown",
      "source": [
        ">**Примечания:**\n",
        ">- Давайте использовать только цены закрытия. При этом, чтобы узнать цены за вчерашний день, стоит использовать метод `shift(1)` у `Series`.\n",
        ">- Отношение цен закрытия за сегодня и за вчера - это **multiplier** за сегодняшний день. При этом давайте строить графики накопления для multiplier-ов. Т.е. если мы смотрим на 3 дня и в первый день multiplier = 1.5, во второй - 0.5 и в третий - 2, то график будет выглядеть так: (1.5, 1.5 * 0.5, 1.5 * 0.5 * 2).\n",
        ">- При использовании нашей новой стратегии мы будем либо покупать, если ведущее среднее становится больше запаздующего на некоторый `threshold` (при этом лучше разницу сперва поделить на цену), либо оставлять всё как есть. При этом, конечно, нужно, принимая решения за сегодняшний день, смотреть только на статистику из прошлого."
      ],
      "metadata": {
        "id": "AcdF_qkJQ2Xy"
      }
    },
    {
      "cell_type": "code",
      "execution_count": null,
      "metadata": {
        "scrolled": false,
        "id": "gp86AGWyL08I"
      },
      "outputs": [],
      "source": [
        "def plot_moving_averages_strategy(\n",
        "    coins, symbol, lead_window, lag_window, threshold, start_date, end_date\n",
        "):\n",
        "    # Paste your code here"
      ]
    },
    {
      "cell_type": "code",
      "execution_count": null,
      "metadata": {
        "id": "m2CDc_kkL08J"
      },
      "outputs": [],
      "source": [
        "# Теперь на основе реализованной функции сделаем интерактивные графики и поизучаем, что получилось:\n",
        "symbol_selector = ipywidgets.Dropdown(\n",
        "    options=('BTC', 'ETH', 'EOS', 'BCH', 'XLM', 'LTC', 'ADA'),\n",
        "    index=0,\n",
        "    value='BTC',\n",
        "    layout={'width': '700px'},\n",
        "    continuous_update=False\n",
        ")\n",
        "\n",
        "lead_window_slider = ipywidgets.IntSlider(\n",
        "    value=21, \n",
        "    min=1, \n",
        "    max=200, \n",
        "    step=1,\n",
        "    layout={'width': '700px'},\n",
        "    continuous_update=False)\n",
        "\n",
        "lag_window_slider = ipywidgets.IntSlider(\n",
        "    value=50,\n",
        "    min=1, \n",
        "    max=200, \n",
        "    layout={'width': '700px'},\n",
        "    step=1, continuous_update=False)\n",
        "\n",
        "threshold_slider = ipywidgets.FloatSlider(\n",
        "    min=0, \n",
        "    max=0.20, \n",
        "    step=0.001, \n",
        "    value=0.025,\n",
        "    layout={'width': '700px'},\n",
        "    continuous_update=False)\n",
        "\n",
        "start_date_slider = ipywidgets.SelectionSlider(\n",
        "    options=pd.date_range('2013-04-28', '2018-06-06', freq='D'),\n",
        "    index=0,\n",
        "    value=pd.Timestamp('2017-05-01'),\n",
        "    layout={'width': '700px'},\n",
        "    continuous_update=False\n",
        ")\n",
        "\n",
        "end_date_slider = ipywidgets.SelectionSlider(\n",
        "    options=pd.date_range('2013-04-28', '2018-06-06', freq='D'),\n",
        "    index=0,\n",
        "    value=pd.Timestamp('2018-01-01'),\n",
        "    layout={'width': '700px'},\n",
        "    continuous_update=False\n",
        ")\n",
        "\n",
        "ipywidgets.interact(\n",
        "    plot_moving_averages_strategy,\n",
        "    coins=ipywidgets.fixed(coins),\n",
        "    symbol=symbol_selector,\n",
        "    lead_window=lead_window_slider,\n",
        "    lag_window=lag_window_slider,\n",
        "    threshold=threshold_slider,\n",
        "    start_date=start_date_slider,\n",
        "    end_date=end_date_slider\n",
        ")"
      ]
    },
    {
      "cell_type": "markdown",
      "metadata": {
        "id": "M0nDeThDL08K"
      },
      "source": [
        "Попробуйте разные значения параметров для разных монет и сделайте выводы о применимости такой модели:"
      ]
    },
    {
      "cell_type": "markdown",
      "metadata": {
        "id": "48-ixm47L08K"
      },
      "source": [
        "**Ваш ответ тут**"
      ]
    },
    {
      "cell_type": "markdown",
      "metadata": {
        "id": "ln30vuzhL08L"
      },
      "source": [
        "## 9. Отказ от ответственности "
      ]
    },
    {
      "cell_type": "markdown",
      "source": [
        "Все примеры разобранных здесь стратегий являются игрушечными и не подходят для реальной торговли на бирже. Без серьезной подготовки вас там съедят с потрохами."
      ],
      "metadata": {
        "id": "TJsrHxbTT7ZH"
      }
    }
  ],
  "metadata": {
    "kernelspec": {
      "display_name": "Python 3",
      "language": "python",
      "name": "python3"
    },
    "language_info": {
      "codemirror_mode": {
        "name": "ipython",
        "version": 3
      },
      "file_extension": ".py",
      "mimetype": "text/x-python",
      "name": "python",
      "nbconvert_exporter": "python",
      "pygments_lexer": "ipython3",
      "version": "3.8.5"
    },
    "colab": {
      "provenance": [],
      "collapsed_sections": [
        "D4kyPV0CL08G"
      ]
    }
  },
  "nbformat": 4,
  "nbformat_minor": 0
}